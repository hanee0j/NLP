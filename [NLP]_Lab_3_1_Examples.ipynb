{
  "cells": [
    {
      "cell_type": "markdown",
      "metadata": {
        "id": "view-in-github",
        "colab_type": "text"
      },
      "source": [
        "<a href=\"https://colab.research.google.com/github/hanee0j/NLP/blob/main/%5BNLP%5D_Lab_3_1_Examples.ipynb\" target=\"_parent\"><img src=\"https://colab.research.google.com/assets/colab-badge.svg\" alt=\"Open In Colab\"/></a>"
      ]
    },
    {
      "cell_type": "code",
      "execution_count": 1,
      "metadata": {
        "id": "UrSIk1b-59q9"
      },
      "outputs": [],
      "source": [
        "import torch\n",
        "import torch.nn as nn\n",
        "import torch.nn.functional as F\n",
        "\n",
        "seed = 1337\n",
        "\n",
        "torch.manual_seed(seed)\n",
        "torch.cuda.manual_seed_all(seed)"
      ]
    },
    {
      "cell_type": "markdown",
      "metadata": {
        "id": "rn1JaT9d59q_"
      },
      "source": [
        "### Example 1"
      ]
    },
    {
      "cell_type": "code",
      "execution_count": 2,
      "metadata": {
        "id": "aV8tOoM659rA"
      },
      "outputs": [],
      "source": [
        "class MultilayerPerceptron(nn.Module):\n",
        "    def __init__(self, input_dim, hidden_dim, output_dim):\n",
        "        \"\"\"\n",
        "        Args:\n",
        "            input_dim (int): the size of the input vectors\n",
        "            hidden_dim (int): the output size of the first Linear layer\n",
        "            output_dim (int): the output size of the second Linear layer\n",
        "        \"\"\"\n",
        "        super(MultilayerPerceptron, self).__init__()\n",
        "        self.fc1 = nn.Linear(input_dim, hidden_dim)\n",
        "        self.fc2 = nn.Linear(hidden_dim, output_dim)\n",
        "\n",
        "    def forward(self, x_in, apply_softmax=False):\n",
        "        \"\"\"The forward pass of the MLP\n",
        "        \n",
        "        Args:\n",
        "            x_in (torch.Tensor): an input data tensor. \n",
        "                x_in.shape should be (batch, input_dim)\n",
        "            apply_softmax (bool): a flag for the softmax activation\n",
        "                should be false if used with the Cross Entropy losses\n",
        "        Returns:\n",
        "            the resulting tensor. tensor.shape should be (batch, output_dim)\n",
        "        \"\"\"\n",
        "        intermediate = F.relu(self.fc1(x_in))\n",
        "        output = self.fc2(intermediate)\n",
        "        \n",
        "        if apply_softmax:\n",
        "            output = F.softmax(output, dim=1)\n",
        "        return output"
      ]
    },
    {
      "cell_type": "markdown",
      "metadata": {
        "id": "-CNHcLKV59rB"
      },
      "source": [
        "### Example 2"
      ]
    },
    {
      "cell_type": "code",
      "execution_count": 3,
      "metadata": {
        "id": "aM_ANUXw59rB",
        "outputId": "a6f75299-1756-4507-a7c3-bd7082e6f63e",
        "colab": {
          "base_uri": "https://localhost:8080/"
        }
      },
      "outputs": [
        {
          "output_type": "stream",
          "name": "stdout",
          "text": [
            "MultilayerPerceptron(\n",
            "  (fc1): Linear(in_features=3, out_features=100, bias=True)\n",
            "  (fc2): Linear(in_features=100, out_features=4, bias=True)\n",
            ")\n"
          ]
        }
      ],
      "source": [
        "batch_size = 2 # number of samples input at once\n",
        "input_dim = 3\n",
        "hidden_dim = 100\n",
        "output_dim = 4\n",
        "\n",
        "# Initialize model\n",
        "mlp = MultilayerPerceptron(input_dim, hidden_dim, output_dim)\n",
        "print(mlp)"
      ]
    },
    {
      "cell_type": "markdown",
      "metadata": {
        "id": "ENjuYT4959rC"
      },
      "source": [
        "### Example 3"
      ]
    },
    {
      "cell_type": "code",
      "execution_count": 4,
      "metadata": {
        "id": "hXYUrfTj59rC"
      },
      "outputs": [],
      "source": [
        "def describe(x):\n",
        "    print(\"Type: {}\".format(x.type()))\n",
        "    print(\"Shape/size: {}\".format(x.shape))\n",
        "    print(\"Values: \\n{}\".format(x))"
      ]
    },
    {
      "cell_type": "code",
      "execution_count": 5,
      "metadata": {
        "id": "ni2-q4DF59rC",
        "outputId": "f9e15a3b-b88e-46f5-9e47-9ec9a9cea006",
        "colab": {
          "base_uri": "https://localhost:8080/"
        }
      },
      "outputs": [
        {
          "output_type": "stream",
          "name": "stdout",
          "text": [
            "Type: torch.FloatTensor\n",
            "Shape/size: torch.Size([2, 3])\n",
            "Values: \n",
            "tensor([[0.8329, 0.4277, 0.4363],\n",
            "        [0.9686, 0.6316, 0.8494]])\n"
          ]
        }
      ],
      "source": [
        "# Inputs\n",
        "x_input = torch.rand(batch_size, input_dim)\n",
        "describe(x_input)"
      ]
    },
    {
      "cell_type": "code",
      "execution_count": 6,
      "metadata": {
        "id": "_i_xOTEP59rC",
        "outputId": "c601c3ab-4b02-40d9-b464-d0fa73182329",
        "colab": {
          "base_uri": "https://localhost:8080/"
        }
      },
      "outputs": [
        {
          "output_type": "stream",
          "name": "stdout",
          "text": [
            "Type: torch.FloatTensor\n",
            "Shape/size: torch.Size([2, 4])\n",
            "Values: \n",
            "tensor([[-0.2456,  0.0723,  0.1589, -0.3294],\n",
            "        [-0.3497,  0.0828,  0.3391, -0.4271]], grad_fn=<AddmmBackward0>)\n"
          ]
        }
      ],
      "source": [
        "y_output = mlp(x_input, apply_softmax=False)\n",
        "describe(y_output)"
      ]
    },
    {
      "cell_type": "markdown",
      "metadata": {
        "id": "Rj_pb_fF59rD"
      },
      "source": [
        "### Example 4"
      ]
    },
    {
      "cell_type": "code",
      "execution_count": 7,
      "metadata": {
        "id": "PiAanR1i59rD",
        "outputId": "582295a8-4d4b-4ce1-9e98-29642af454f4",
        "colab": {
          "base_uri": "https://localhost:8080/"
        }
      },
      "outputs": [
        {
          "output_type": "stream",
          "name": "stdout",
          "text": [
            "Type: torch.FloatTensor\n",
            "Shape/size: torch.Size([2, 4])\n",
            "Values: \n",
            "tensor([[0.2087, 0.2868, 0.3127, 0.1919],\n",
            "        [0.1832, 0.2824, 0.3649, 0.1696]], grad_fn=<SoftmaxBackward0>)\n"
          ]
        }
      ],
      "source": [
        "y_output = mlp(x_input, apply_softmax=True)\n",
        "describe(y_output)"
      ]
    },
    {
      "cell_type": "markdown",
      "metadata": {
        "id": "iJDAB1i459rD"
      },
      "source": [
        "### Example 5"
      ]
    },
    {
      "cell_type": "code",
      "execution_count": 8,
      "metadata": {
        "id": "O1fLeYpx59rD",
        "outputId": "b887b343-184b-4b19-a820-53fad7c14bee",
        "colab": {
          "base_uri": "https://localhost:8080/"
        }
      },
      "outputs": [
        {
          "output_type": "stream",
          "name": "stdout",
          "text": [
            "MultilayerPerceptron(\n",
            "  (fc1): Linear(in_features=3, out_features=100, bias=True)\n",
            "  (fc2): Linear(in_features=100, out_features=4, bias=True)\n",
            ")\n",
            "Type: torch.FloatTensor\n",
            "Shape/size: torch.Size([2, 4])\n",
            "Values: \n",
            "tensor([[ 0.0193,  0.0275,  0.2319,  0.3032],\n",
            "        [-0.5323,  0.3183,  0.4194, -0.0205]], grad_fn=<AddmmBackward0>)\n"
          ]
        }
      ],
      "source": [
        "class MultilayerPerceptron(nn.Module):\n",
        "    def __init__(self, input_dim, hidden_dim, output_dim):\n",
        "        \"\"\"\n",
        "        Args:\n",
        "            input_dim (int): the size of the input vectors\n",
        "            hidden_dim (int): the output size of the first Linear layer\n",
        "            output_dim (int): the output size of the second Linear layer\n",
        "        \"\"\"\n",
        "        super(MultilayerPerceptron, self).__init__()\n",
        "        self.fc1 = nn.Linear(input_dim, hidden_dim)\n",
        "        self.fc2 = nn.Linear(hidden_dim, output_dim)\n",
        "\n",
        "    def forward(self, x_in, apply_softmax=False):\n",
        "        \"\"\"The forward pass of the MLP\n",
        "        \n",
        "        Args:\n",
        "            x_in (torch.Tensor): an input data tensor. \n",
        "                x_in.shape should be (batch, input_dim)\n",
        "            apply_softmax (bool): a flag for the softmax activation\n",
        "                should be false if used with the Cross Entropy losses\n",
        "        Returns:\n",
        "            the resulting tensor. tensor.shape should be (batch, output_dim)\n",
        "        \"\"\"\n",
        "        intermediate = F.relu(self.fc1(x_in))\n",
        "        output = self.fc2(F.dropout(intermediate, p=0.5))\n",
        "        \n",
        "        if apply_softmax:\n",
        "            output = F.softmax(output, dim=1)\n",
        "        return output\n",
        "\n",
        "batch_size = 2 # number of samples input at once\n",
        "input_dim = 3\n",
        "hidden_dim = 100\n",
        "output_dim = 4\n",
        "\n",
        "# Initialize model\n",
        "mlp = MultilayerPerceptron(input_dim, hidden_dim, output_dim)\n",
        "print(mlp)\n",
        "\n",
        "y_output = mlp(x_input, apply_softmax=False)\n",
        "describe(y_output)"
      ]
    },
    {
      "cell_type": "markdown",
      "metadata": {
        "id": "WRDpmzbG59rD"
      },
      "source": [
        "### Example 6"
      ]
    },
    {
      "cell_type": "code",
      "execution_count": 9,
      "metadata": {
        "id": "UHqwfh_o59rE",
        "outputId": "12ee1000-ccd1-4336-98d1-e7e709be8baa",
        "colab": {
          "base_uri": "https://localhost:8080/"
        }
      },
      "outputs": [
        {
          "output_type": "stream",
          "name": "stdout",
          "text": [
            "torch.Size([2, 10, 7])\n",
            "torch.Size([2, 16, 5])\n"
          ]
        }
      ],
      "source": [
        "batch_size = 2\n",
        "one_hot_size = 10\n",
        "sequence_width = 7\n",
        "data = torch.randn(batch_size, one_hot_size, sequence_width)\n",
        "conv1 = nn.Conv1d(in_channels=one_hot_size, out_channels=16, kernel_size=3)\n",
        "intermediate1 = conv1(data)\n",
        "print(data.size())\n",
        "print(intermediate1.size())"
      ]
    },
    {
      "cell_type": "markdown",
      "metadata": {
        "id": "03cqkIFn59rE"
      },
      "source": [
        "### Example 7"
      ]
    },
    {
      "cell_type": "code",
      "execution_count": 10,
      "metadata": {
        "id": "uWv60gBw59rE",
        "outputId": "12c3d9fd-1512-4d87-fb66-5400cd0e0185",
        "colab": {
          "base_uri": "https://localhost:8080/"
        }
      },
      "outputs": [
        {
          "output_type": "stream",
          "name": "stdout",
          "text": [
            "torch.Size([2, 32, 3])\n",
            "torch.Size([2, 64, 1])\n"
          ]
        }
      ],
      "source": [
        "conv2 = nn.Conv1d(in_channels=16, out_channels=32, kernel_size=3)\n",
        "conv3 = nn.Conv1d(in_channels=32, out_channels=64, kernel_size=3)\n",
        "\n",
        "intermediate2 = conv2(intermediate1)\n",
        "intermediate3 = conv3(intermediate2)\n",
        "\n",
        "print(intermediate2.size())\n",
        "print(intermediate3.size())"
      ]
    },
    {
      "cell_type": "code",
      "execution_count": 11,
      "metadata": {
        "id": "cLhgaY2V59rE",
        "outputId": "1a9a189f-f893-451f-8bd2-6465958c37db",
        "colab": {
          "base_uri": "https://localhost:8080/"
        }
      },
      "outputs": [
        {
          "output_type": "stream",
          "name": "stdout",
          "text": [
            "torch.Size([2, 64])\n"
          ]
        }
      ],
      "source": [
        "y_output = intermediate3.squeeze()\n",
        "print(y_output.size())"
      ]
    },
    {
      "cell_type": "code",
      "execution_count": 12,
      "metadata": {
        "id": "yIMw2Oe359rE",
        "outputId": "196e2891-12f4-4fc6-f612-22810b3834b7",
        "colab": {
          "base_uri": "https://localhost:8080/"
        }
      },
      "outputs": [
        {
          "output_type": "execute_result",
          "data": {
            "text/plain": [
              "tensor(-0.0493, grad_fn=<SumBackward0>)"
            ]
          },
          "metadata": {},
          "execution_count": 12
        }
      ],
      "source": [
        "intermediate2.mean(dim=0).mean(dim=1).sum()"
      ]
    },
    {
      "cell_type": "markdown",
      "metadata": {
        "id": "WISiecsk59rE"
      },
      "source": [
        "### Example 8"
      ]
    },
    {
      "cell_type": "code",
      "execution_count": 13,
      "metadata": {
        "id": "NfR8XiBb59rE",
        "outputId": "5405f79e-2f0d-450e-8713-5a0b40d25117",
        "colab": {
          "base_uri": "https://localhost:8080/"
        }
      },
      "outputs": [
        {
          "output_type": "stream",
          "name": "stdout",
          "text": [
            "torch.Size([2, 80])\n",
            "torch.Size([2, 16])\n"
          ]
        }
      ],
      "source": [
        "# Method 2 of reducing to feature vectors\n",
        "print(intermediate1.view(batch_size, -1).size())\n",
        "\n",
        "# Method 3 of reducing to feature vectors\n",
        "print(torch.mean(intermediate1, dim=2).size())\n",
        "# print(torch.max(intermediate1, dim=2).size())\n",
        "# print(torch.sum(intermediate1, dim=2).size())"
      ]
    },
    {
      "cell_type": "markdown",
      "metadata": {
        "id": "ZFGubJL-59rE"
      },
      "source": [
        "### Example 9\n",
        "The full model will not be reproduced here. Instead, we will just show batch norm being used.  "
      ]
    },
    {
      "cell_type": "code",
      "execution_count": 14,
      "metadata": {
        "id": "z3z7jvHT59rE",
        "outputId": "927852d7-f828-4c76-9bb4-c8276c1b9edb",
        "colab": {
          "base_uri": "https://localhost:8080/"
        }
      },
      "outputs": [
        {
          "output_type": "stream",
          "name": "stdout",
          "text": [
            "torch.Size([2, 16, 5])\n",
            "torch.Size([2, 32, 3])\n",
            "torch.Size([2, 64, 1])\n"
          ]
        }
      ],
      "source": [
        "conv1 = nn.Conv1d(in_channels=one_hot_size, out_channels=16, kernel_size=3)\n",
        "conv2 = nn.Conv1d(in_channels=16, out_channels=32, kernel_size=3)\n",
        "conv3 = nn.Conv1d(in_channels=32, out_channels=64, kernel_size=3)\n",
        "\n",
        "conv1_bn = nn.BatchNorm1d(num_features=16)\n",
        "conv2_bn = nn.BatchNorm1d(num_features=32)\n",
        "    \n",
        "intermediate1 = conv1_bn(F.relu(conv1(data)))\n",
        "intermediate2 = conv2_bn(F.relu(conv2(intermediate1)))\n",
        "intermediate3 = conv3(intermediate2)\n",
        "\n",
        "print(intermediate1.size())\n",
        "print(intermediate2.size())\n",
        "print(intermediate3.size())"
      ]
    },
    {
      "cell_type": "markdown",
      "metadata": {
        "id": "0WmC7LX_59rF"
      },
      "source": [
        "Note: BatchNorm computes its statistics over the batch and sequence dimensions. In other words, the input to each batchnorm1d is a tensor of size `(B, C, L)` (where b=batch, c=channels, and l=length). Each `(B, L)` slice should have 0-mean.  This reduces covariate shift. "
      ]
    },
    {
      "cell_type": "code",
      "execution_count": 15,
      "metadata": {
        "id": "b2p31pJ359rF",
        "outputId": "6509604b-d8c2-45da-9699-9291217da1db",
        "colab": {
          "base_uri": "https://localhost:8080/"
        }
      },
      "outputs": [
        {
          "output_type": "execute_result",
          "data": {
            "text/plain": [
              "tensor([ 0.0000e+00,  2.9802e-08, -2.9802e-08, -3.9736e-08,  9.9341e-09,\n",
              "        -1.9868e-08,  4.9671e-08,  5.9605e-08,  2.9802e-08,  0.0000e+00,\n",
              "         3.9736e-08,  2.9802e-08,  0.0000e+00,  2.9802e-08, -9.9341e-09,\n",
              "         0.0000e+00,  3.9736e-08,  7.9473e-08,  1.9868e-08,  1.9868e-08,\n",
              "        -2.9802e-08, -3.9736e-08, -2.1110e-08,  3.9736e-08,  3.9736e-08,\n",
              "         1.9868e-08,  0.0000e+00,  0.0000e+00,  0.0000e+00, -3.9736e-08,\n",
              "        -1.9868e-08,  4.4703e-08], grad_fn=<MeanBackward1>)"
            ]
          },
          "metadata": {},
          "execution_count": 15
        }
      ],
      "source": [
        "intermediate2.mean(dim=(0, 2))"
      ]
    },
    {
      "cell_type": "markdown",
      "metadata": {
        "id": "QZ4tBgwr59rF"
      },
      "source": [
        "\n",
        "## Bonus Examples\n",
        "\n",
        "In chapter 4, we cover convolutions. Below are code examples which instantiate the convolutions with various hyper parameter settings. "
      ]
    },
    {
      "cell_type": "code",
      "execution_count": 16,
      "metadata": {
        "id": "_ptPBGuw59rF",
        "outputId": "296ffd13-6f1e-4792-fd88-287b461effbb",
        "colab": {
          "base_uri": "https://localhost:8080/"
        }
      },
      "outputs": [
        {
          "output_type": "stream",
          "name": "stdout",
          "text": [
            "Type: torch.FloatTensor\n",
            "Shape/size: torch.Size([1, 2, 3, 3])\n",
            "Values: \n",
            "tensor([[[[-1.3034,  0.9247,  1.2295],\n",
            "          [-1.1446,  0.5722, -0.1904],\n",
            "          [ 0.2819,  1.6849, -0.4500]],\n",
            "\n",
            "         [[-1.5986,  0.8513,  0.3467],\n",
            "          [ 0.4521, -0.8266, -0.5102],\n",
            "          [ 0.1659, -0.0821,  0.1389]]]])\n",
            "Type: torch.FloatTensor\n",
            "Shape/size: torch.Size([1, 2, 2, 2])\n",
            "Values: \n",
            "Parameter containing:\n",
            "tensor([[[[ 0.2706,  0.3010],\n",
            "          [-0.3514,  0.1179]],\n",
            "\n",
            "         [[-0.3259,  0.1782],\n",
            "          [ 0.0018,  0.2244]]]], requires_grad=True)\n",
            "Type: torch.FloatTensor\n",
            "Shape/size: torch.Size([1, 1, 2, 2])\n",
            "Values: \n",
            "tensor([[[[ 0.7289, -0.0895],\n",
            "          [-0.5052, -0.4926]]]], grad_fn=<ConvolutionBackward0>)\n"
          ]
        }
      ],
      "source": [
        "x = torch.randn(1, 2, 3, 3)\n",
        "describe(x)\n",
        "\n",
        "conv1 = nn.Conv2d(in_channels=2, out_channels=1, kernel_size=2)\n",
        "describe(conv1.weight)\n",
        "describe(conv1(x))"
      ]
    },
    {
      "cell_type": "code",
      "execution_count": 17,
      "metadata": {
        "id": "0XTQu5X259rF",
        "outputId": "8568c7ad-1eca-4523-91d4-5ccc68aaf8b5",
        "colab": {
          "base_uri": "https://localhost:8080/"
        }
      },
      "outputs": [
        {
          "output_type": "stream",
          "name": "stdout",
          "text": [
            "Type: torch.FloatTensor\n",
            "Shape/size: torch.Size([1, 1, 3, 3])\n",
            "Values: \n",
            "tensor([[[[-1.4027, -0.4858, -1.6482],\n",
            "          [-3.2619,  0.1149,  0.7911],\n",
            "          [-0.0382, -0.1485, -0.6093]]]])\n",
            "Type: torch.FloatTensor\n",
            "Shape/size: torch.Size([2, 1, 2, 2])\n",
            "Values: \n",
            "Parameter containing:\n",
            "tensor([[[[ 0.0806,  0.4423],\n",
            "          [-0.1840, -0.4620]]],\n",
            "\n",
            "\n",
            "        [[[-0.1611,  0.1878],\n",
            "          [ 0.3422, -0.0861]]]], requires_grad=True)\n",
            "Type: torch.FloatTensor\n",
            "Shape/size: torch.Size([1, 2, 2, 2])\n",
            "Values: \n",
            "tensor([[[[ 3.5492e-01, -1.0193e+00],\n",
            "          [-8.9103e-04,  8.0362e-01]],\n",
            "\n",
            "         [[-5.2371e-01,  2.0747e-01],\n",
            "          [ 1.0143e+00,  5.9923e-01]]]], grad_fn=<ConvolutionBackward0>)\n"
          ]
        }
      ],
      "source": [
        "x = torch.randn(1, 1, 3, 3)\n",
        "describe(x)\n",
        "\n",
        "conv1 = nn.Conv2d(in_channels=1, out_channels=2, kernel_size=2)\n",
        "describe(conv1.weight)\n",
        "describe(conv1(x))"
      ]
    }
  ],
  "metadata": {
    "kernelspec": {
      "display_name": "nlpbook",
      "language": "python",
      "name": "nlpbook"
    },
    "language_info": {
      "codemirror_mode": {
        "name": "ipython",
        "version": 3
      },
      "file_extension": ".py",
      "mimetype": "text/x-python",
      "name": "python",
      "nbconvert_exporter": "python",
      "pygments_lexer": "ipython3",
      "version": "3.7.2"
    },
    "colab": {
      "provenance": [],
      "include_colab_link": true
    }
  },
  "nbformat": 4,
  "nbformat_minor": 0
}